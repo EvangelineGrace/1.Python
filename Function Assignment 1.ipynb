{
 "cells": [
  {
   "cell_type": "code",
   "execution_count": 1,
   "metadata": {},
   "outputs": [],
   "source": [
    "#create Function"
   ]
  },
  {
   "cell_type": "code",
   "execution_count": 2,
   "metadata": {},
   "outputs": [],
   "source": [
    "my_list= [\"Machine Learning\", \"Neural Networks\", \"Vision\", \"Robotics\", \"Speech Processing\", \"Natural Language Processing\"]"
   ]
  },
  {
   "cell_type": "code",
   "execution_count": 3,
   "metadata": {},
   "outputs": [],
   "source": [
    "def Subfields():\n",
    "    print(\"Sub-fields in AI are:\")\n",
    "    for i in my_list:\n",
    "        print(i)"
   ]
  },
  {
   "cell_type": "code",
   "execution_count": 4,
   "metadata": {},
   "outputs": [
    {
     "name": "stdout",
     "output_type": "stream",
     "text": [
      "Sub-fields in AI are:\n",
      "Machine Learning\n",
      "Neural Networks\n",
      "Vision\n",
      "Robotics\n",
      "Speech Processing\n",
      "Natural Language Processing\n"
     ]
    }
   ],
   "source": [
    "Subfields()"
   ]
  },
  {
   "cell_type": "code",
   "execution_count": null,
   "metadata": {},
   "outputs": [],
   "source": [
    "# Create Function"
   ]
  },
  {
   "cell_type": "code",
   "execution_count": 25,
   "metadata": {},
   "outputs": [],
   "source": [
    "def OddEven():\n",
    "    num=int(input(\"Enter the number: \"))\n",
    "    if (num%2==1):\n",
    "        print(\"Odd Number\")\n",
    "        message=\"odd number\"\n",
    "    else:\n",
    "        message=\"Even Number\"\n",
    "    return message"
   ]
  },
  {
   "cell_type": "code",
   "execution_count": 26,
   "metadata": {},
   "outputs": [
    {
     "name": "stdout",
     "output_type": "stream",
     "text": [
      "Enter the number: 4\n",
      "is Even Number\n"
     ]
    }
   ],
   "source": [
    " message=OddEven()\n",
    "if (message==\"Even Number\"):\n",
    "    print(\"is Even Number\")\n",
    "else:\n",
    "    print(\"The given number is odd\")\n",
    "    "
   ]
  },
  {
   "cell_type": "code",
   "execution_count": null,
   "metadata": {},
   "outputs": [],
   "source": [
    "#Eligible"
   ]
  },
  {
   "cell_type": "code",
   "execution_count": 37,
   "metadata": {},
   "outputs": [],
   "source": [
    "def Eligible():\n",
    "    gender = input(\"Enter your Gender:\")\n",
    "    age=int(input(\"Enter your age:\"))\n",
    "    if (age < 27):\n",
    "        print (\"NOT ELIGIBLE\")\n",
    "        message=\"NOT ELIGIBLE\"\n",
    "    else: \n",
    "        print(\"Eligible\")\n",
    "        message=\"Eligible\"\n",
    " "
   ]
  },
  {
   "cell_type": "code",
   "execution_count": 38,
   "metadata": {},
   "outputs": [
    {
     "name": "stdout",
     "output_type": "stream",
     "text": [
      "Enter your Gender:Male\n",
      "Enter your age:18\n",
      "NOT ELIGIBLE\n"
     ]
    }
   ],
   "source": [
    "Eligible()"
   ]
  },
  {
   "cell_type": "code",
   "execution_count": 41,
   "metadata": {},
   "outputs": [
    {
     "name": "stdout",
     "output_type": "stream",
     "text": [
      "Subject 1:23\n",
      "Subject 2:45\n",
      "Subject 3:34\n",
      "Subject 4:23\n",
      "Subject 5:23\n",
      "\n",
      "Total Score: 148\n",
      "percentage= 29.599999999999998 %\n"
     ]
    }
   ],
   "source": [
    "\n",
    "    sub1 =int(input(\"Subject 1:\"))\n",
    "    sub2 =int(input(\"Subject 2:\"))\n",
    "    sub3 =int(input(\"Subject 3:\"))\n",
    "    sub4 =int(input(\"Subject 4:\"))\n",
    "    sub5 =int(input(\"Subject 5:\"))\n",
    "    print()\n",
    "    total= sub1+sub2+sub3+sub4+sub5\n",
    "    print(\"Total Score:\", total)\n",
    "    percentage = (total/500)*100\n",
    "    print(\"percentage=\", percentage,\"%\")"
   ]
  },
  {
   "cell_type": "code",
   "execution_count": null,
   "metadata": {},
   "outputs": [],
   "source": [
    "triangle()"
   ]
  },
  {
   "cell_type": "code",
   "execution_count": 45,
   "metadata": {},
   "outputs": [
    {
     "name": "stdout",
     "output_type": "stream",
     "text": [
      "Enter height: 3\n",
      "Enter base: 4\n",
      "Area Formula:(Height*Breath)/2\n",
      "Area of triangle is: 6.0\n",
      "Enter height 1:3\n",
      "Enter height 2:4\n",
      "Enter breasth3:45\n",
      "Perimeter of Triangle 52.0\n"
     ]
    }
   ],
   "source": [
    "h= float(input(\"Enter height: \"))\n",
    "b= float(input(\"Enter base: \"))\n",
    "print(\"Area Formula:(Height*Breath)/2\")\n",
    "area =6.0\n",
    "print(\"Area of triangle is:\", area)\n",
    "h1=float(input(\"Enter height 1:\"))\n",
    "h2=float(input(\"Enter height 2:\"))\n",
    "b3=float(input(\"Enter breasth3:\"))\n",
    "perimeter=h1+h2+b3\n",
    "print(\"Perimeter of Triangle\", perimeter)"
   ]
  },
  {
   "cell_type": "code",
   "execution_count": null,
   "metadata": {},
   "outputs": [],
   "source": []
  }
 ],
 "metadata": {
  "kernelspec": {
   "display_name": "Python 3",
   "language": "python",
   "name": "python3"
  },
  "language_info": {
   "codemirror_mode": {
    "name": "ipython",
    "version": 3
   },
   "file_extension": ".py",
   "mimetype": "text/x-python",
   "name": "python",
   "nbconvert_exporter": "python",
   "pygments_lexer": "ipython3",
   "version": "3.7.4"
  }
 },
 "nbformat": 4,
 "nbformat_minor": 2
}
