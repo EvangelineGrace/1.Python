{
 "cells": [
  {
   "cell_type": "code",
   "execution_count": null,
   "metadata": {},
   "outputs": [],
   "source": [
    "def Eligible():\n",
    "    gender = input(\"Enter your Gender:\")\n",
    "    age=int(input(\"Enter your age:\"))\n",
    "    if (age<27):\n",
    "        print (\"NOT ELIGIBLE\")\n",
    "        message=\"NOT ELIGIBLE\"\n",
    "    elif (age<18):\n",
    "        print (\"Not Eligible\")\n",
    "        message=\"Not Eligible\"\n",
    "    else: \n",
    "        print(\"Eligible\")\n",
    "        message=\"Eligible\""
   ]
  },
  {
   "cell_type": "code",
   "execution_count": 15,
   "metadata": {
    "scrolled": true
   },
   "outputs": [
    {
     "name": "stdout",
     "output_type": "stream",
     "text": [
      "Enter your Gender:Male\n",
      "Enter your age:20\n",
      "NOT ELIGIBLE\n"
     ]
    }
   ],
   "source": [
    "Eligible()"
   ]
  },
  {
   "cell_type": "code",
   "execution_count": null,
   "metadata": {},
   "outputs": [],
   "source": [
    "# create a class and Function, and list out the items in the list"
   ]
  },
  {
   "cell_type": "code",
   "execution_count": 5,
   "metadata": {},
   "outputs": [],
   "source": [
    "my_list= [\"Machine Learning\", \"Neural Networks\", \"Vision\", \"Robotics\", \"Speech Processing\", \"Natural Language Processing\"]"
   ]
  },
  {
   "cell_type": "code",
   "execution_count": 6,
   "metadata": {},
   "outputs": [],
   "source": [
    "class SubfieldsINAI():\n",
    "    def Subfields():\n",
    "        print(\"Sub-fields in AI are:\")\n",
    "        for i in my_list:\n",
    "            print(i)"
   ]
  },
  {
   "cell_type": "code",
   "execution_count": 7,
   "metadata": {},
   "outputs": [
    {
     "name": "stdout",
     "output_type": "stream",
     "text": [
      "Sub-fields in AI are:\n",
      "Machine Learning\n",
      "Neural Networks\n",
      "Vision\n",
      "Robotics\n",
      "Speech Processing\n",
      "Natural Language Processing\n"
     ]
    }
   ],
   "source": [
    "SubfieldsINAI.Subfields()"
   ]
  },
  {
   "cell_type": "code",
   "execution_count": 8,
   "metadata": {},
   "outputs": [],
   "source": [
    "# create a function that checks whether the given number is Odd or Even"
   ]
  },
  {
   "cell_type": "code",
   "execution_count": 14,
   "metadata": {},
   "outputs": [],
   "source": [
    "class OddEven():\n",
    "    def OddEven():\n",
    "        num=int(input(\"Enter the number: \"))\n",
    "        if (num%2==1):\n",
    "            print(\"Odd Number\")\n",
    "            message=\"odd number\"\n",
    "        else:\n",
    "            message=\"Even Number\"\n",
    "        return message\n",
    "        message=OddEven()\n",
    "        if (message==\"is Even Number\"):\n",
    "            print(\"is Even Number\")\n",
    "        else:\n",
    "            print(\"The given number is odd\")"
   ]
  },
  {
   "cell_type": "code",
   "execution_count": 10,
   "metadata": {},
   "outputs": [
    {
     "name": "stdout",
     "output_type": "stream",
     "text": [
      "Enter the number: 52452\n"
     ]
    },
    {
     "data": {
      "text/plain": [
       "'Even Number'"
      ]
     },
     "execution_count": 10,
     "metadata": {},
     "output_type": "execute_result"
    }
   ],
   "source": [
    "OddEven.OddEven()"
   ]
  },
  {
   "cell_type": "code",
   "execution_count": 11,
   "metadata": {},
   "outputs": [],
   "source": [
    "#Eligibility for Marriage"
   ]
  },
  {
   "cell_type": "code",
   "execution_count": 12,
   "metadata": {},
   "outputs": [],
   "source": [
    "class EligibilityForMarriage():\n",
    "    def Eligible():\n",
    "        gender = input(\"Enter your Gender:\")\n",
    "        age=int(input(\"Enter your age:\"))\n",
    "        if (age<27):\n",
    "            print (\"NOT ELIGIBLE\")\n",
    "            message=\"NOT ELIGIBLE\"\n",
    "        elif (age<18):\n",
    "            print (\"Not Eligible\")\n",
    "            message=\"Not Eligible\"\n",
    "        else: \n",
    "            print(\"Eligible\")\n",
    "            message=\"Eligible\""
   ]
  },
  {
   "cell_type": "code",
   "execution_count": 16,
   "metadata": {},
   "outputs": [
    {
     "name": "stdout",
     "output_type": "stream",
     "text": [
      "Enter your Gender:Male\n",
      "Enter your age:20\n",
      "NOT ELIGIBLE\n"
     ]
    }
   ],
   "source": [
    "EligibilityForMarriage.Eligible()"
   ]
  },
  {
   "cell_type": "code",
   "execution_count": 17,
   "metadata": {},
   "outputs": [],
   "source": [
    "    class FindPercentage():\n",
    "        def percentage():\n",
    "            sub1 =int(input(\"Subject 1:\"))\n",
    "            sub2 =int(input(\"Subject 2:\"))\n",
    "            sub3 =int(input(\"Subject 3:\"))\n",
    "            sub4 =int(input(\"Subject 4:\"))\n",
    "            sub5 =int(input(\"Subject 5:\"))\n",
    "            print()\n",
    "            total= sub1+sub2+sub3+sub4+sub5\n",
    "            print(\"Total Score:\", total)\n",
    "            percentage = (total/500)*100\n",
    "            print(\"percentage=\", percentage,\"%\")"
   ]
  },
  {
   "cell_type": "code",
   "execution_count": 18,
   "metadata": {},
   "outputs": [
    {
     "name": "stdout",
     "output_type": "stream",
     "text": [
      "Subject 1:98\n",
      "Subject 2:87\n",
      "Subject 3:95\n",
      "Subject 4:95\n",
      "Subject 5:93\n",
      "\n",
      "Total Score: 468\n",
      "percentage= 93.60000000000001 %\n"
     ]
    }
   ],
   "source": [
    "FindPercentage.percentage()"
   ]
  },
  {
   "cell_type": "code",
   "execution_count": 28,
   "metadata": {},
   "outputs": [],
   "source": [
    "class triangle():\n",
    "    def triangle():\n",
    "        h= float(input(\"Enter height: \"))\n",
    "        b= float(input(\"Enter base: \"))\n",
    "        print(\"Area Formula:(Height*Breath)/2\")\n",
    "        area =544.0\n",
    "        print(\"Area of triangle is:\", area)\n",
    "        h1=float(input(\"Enter height 1:\"))\n",
    "        h2=float(input(\"Enter height 2:\"))\n",
    "        b3=float(input(\"Enter breasth3:\"))\n",
    "        perimeter=h1+h2+b3\n",
    "        print(\"Perimeter of Triangle\", perimeter)"
   ]
  },
  {
   "cell_type": "code",
   "execution_count": 29,
   "metadata": {},
   "outputs": [
    {
     "name": "stdout",
     "output_type": "stream",
     "text": [
      "Enter height: 32\n",
      "Enter base: 34\n",
      "Area Formula:(Height*Breath)/2\n",
      "Area of triangle is: 544.0\n",
      "Enter height 1:2\n",
      "Enter height 2:4\n",
      "Enter breasth3:4\n",
      "Perimeter of Triangle 10.0\n"
     ]
    }
   ],
   "source": [
    "triangle.triangle()\n"
   ]
  },
  {
   "cell_type": "code",
   "execution_count": null,
   "metadata": {},
   "outputs": [],
   "source": []
  }
 ],
 "metadata": {
  "kernelspec": {
   "display_name": "Python 3",
   "language": "python",
   "name": "python3"
  },
  "language_info": {
   "codemirror_mode": {
    "name": "ipython",
    "version": 3
   },
   "file_extension": ".py",
   "mimetype": "text/x-python",
   "name": "python",
   "nbconvert_exporter": "python",
   "pygments_lexer": "ipython3",
   "version": "3.7.4"
  }
 },
 "nbformat": 4,
 "nbformat_minor": 2
}
